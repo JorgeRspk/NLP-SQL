{
 "cells": [
  {
   "cell_type": "markdown",
   "metadata": {},
   "source": [
    "# Identificacion de mas de una tabla en una misma hoja excel"
   ]
  },
  {
   "cell_type": "markdown",
   "metadata": {},
   "source": [
    "### Set API MODEL GEMINI 1.5 PRO"
   ]
  },
  {
   "cell_type": "code",
   "execution_count": 1,
   "metadata": {},
   "outputs": [],
   "source": [
    "import vertexai\n",
    "import os\n",
    "from dotenv import load_dotenv\n",
    "from langchain_google_vertexai import ChatVertexAI\n",
    "\n",
    "vertexai.init(\n",
    "    project=\"gen-lang-client-0730997933\",\n",
    "    location=\"us-central1\"\n",
    ")\n",
    "\n",
    "os.environ['GOOGLE_APPLICATION_CREDENTIALS'] = 'gen-lang-client-0730997933-9e99e8511560.json'\n",
    "\n",
    "load_dotenv()\n",
    "\n",
    "GOOGLE_API_KEY = os.getenv('GOOGLE_API_KEY')\n",
    "\n",
    "os.environ[\"GOOGLE_API_KEY\"] = GOOGLE_API_KEY\n",
    "\n",
    "llm_gemini_pro = ChatVertexAI(model=\"gemini-1.5-pro-002\")"
   ]
  },
  {
   "cell_type": "markdown",
   "metadata": {},
   "source": [
    "### Prompt"
   ]
  },
  {
   "cell_type": "code",
   "execution_count": 2,
   "metadata": {},
   "outputs": [],
   "source": [
    "from langchain_core.prompts import ChatPromptTemplate, MessagesPlaceholder\n",
    "\n",
    "# ID para guardar el historial de consultas anteriores\n",
    "MEMORY_KEY = \"chat_history\"\n",
    "\n",
    "extract_dataexcel_name_tool = 'get_tables'\n",
    "\n",
    "# Template configurado para el prompt\n",
    "prompt = ChatPromptTemplate.from_messages(\n",
    "    [\n",
    "        (\n",
    "            \"system\",\n",
    "            f\"\"\"System prompt:\n",
    "                    Tu objetivo es mediante una herramienta entregada para extraer los datos de un excel, obtener las tablas que se encuentran en este y ademas relacionarlas si es que tienen alogun tipo de atributo en comun.\n",
    "\n",
    "                    Para ello tienes que seguir estos pasos:\n",
    "                        1. Extraer los datos de un excel con la herramienta llamada {extract_dataexcel_name_tool}.\n",
    "                        2. Guarda los datos en un diccionario de datos.\n",
    "                        3. Interpreta los datos e identifica cuales son los datos en comun entre tablas.\n",
    "                        4. Genera un script sql para crear las tablas en la base de datos.\n",
    "\n",
    "                    Como salida debes entregar el script y un esquema con las tablas y las conexiones entre ellas.\n",
    "            \"\"\",\n",
    "        ),\n",
    "        MessagesPlaceholder(variable_name=MEMORY_KEY),\n",
    "        (\"user\", \"{input}\"),\n",
    "        MessagesPlaceholder(variable_name=\"agent_scratchpad\"),\n",
    "    ]\n",
    ")"
   ]
  },
  {
   "cell_type": "markdown",
   "metadata": {},
   "source": [
    "### Tools"
   ]
  },
  {
   "cell_type": "code",
   "execution_count": 3,
   "metadata": {},
   "outputs": [],
   "source": [
    "from langchain_core.tools import tool\n",
    "from typing import List, Type, Dict\n",
    "import pandas as pd\n",
    "\n",
    "@tool\n",
    "def get_tables(file_path: str) -> Dict[str, List[Dict[str, str]]]:\n",
    "    \"\"\"Extrae tablas desde un archivo Excel, guarda cada tabla en un CSV y devuelve un diccionario con columnas y tipos de datos.\"\"\"\n",
    "    xls = pd.ExcelFile(file_path)\n",
    "    tables_info = {}\n",
    "\n",
    "    for sheet_name in xls.sheet_names:\n",
    "        df = xls.parse(sheet_name)\n",
    "        tables_in_sheet = []\n",
    "        \n",
    "        # Dividir en tablas usando filas vacías como separación\n",
    "        start_idx = 0\n",
    "        for i, is_empty in enumerate(df.isnull().all(axis=1)):\n",
    "            if is_empty:\n",
    "                # Si encontramos una fila vacía, extraemos la tabla hasta el índice actual\n",
    "                if start_idx < i:\n",
    "                    sub_df = df.iloc[start_idx:i].dropna(how=\"all\")\n",
    "                    tables_in_sheet.append(sub_df)\n",
    "                start_idx = i + 1  # Actualizar inicio para la siguiente tabla\n",
    "                \n",
    "        # Última tabla (si hay contenido después de la última fila vacía)\n",
    "        if start_idx < len(df):\n",
    "            tables_in_sheet.append(df.iloc[start_idx:].dropna(how=\"all\"))\n",
    "\n",
    "        # Guardar cada tabla en CSV y obtener info de columnas\n",
    "        tables_info[sheet_name] = []\n",
    "        for idx, table_df in enumerate(tables_in_sheet):\n",
    "            csv_file_name = f\"{sheet_name}_table_{idx + 1}.csv\"\n",
    "            table_df.to_csv(csv_file_name, index=False)\n",
    "            \n",
    "            columns_info = [\n",
    "                {\"name\": column, \"dtype\": str(dtype)}\n",
    "                for column, dtype in table_df.dtypes.items()\n",
    "            ]\n",
    "            tables_info[sheet_name].append(columns_info)\n",
    "    \n",
    "    return tables_info\n",
    "\n",
    "tools = [get_tables]\n",
    "\n",
    "llm_with_tools = llm_gemini_pro.bind_tools(tools)"
   ]
  },
  {
   "cell_type": "markdown",
   "metadata": {},
   "source": [
    "### Agent"
   ]
  },
  {
   "cell_type": "code",
   "execution_count": 4,
   "metadata": {},
   "outputs": [],
   "source": [
    "from langchain.agents.format_scratchpad.openai_tools import (\n",
    "    format_to_openai_tool_messages,\n",
    ")\n",
    "from langchain.agents.output_parsers.openai_tools import OpenAIToolsAgentOutputParser\n",
    "\n",
    "agent = (\n",
    "    {\n",
    "        \"input\": lambda x: x[\"input\"],\n",
    "        \"agent_scratchpad\": lambda x: format_to_openai_tool_messages(\n",
    "            x[\"intermediate_steps\"]\n",
    "        ),\n",
    "        \"chat_history\": lambda x: x[\"chat_history\"],\n",
    "    }\n",
    "    | prompt\n",
    "    | llm_with_tools\n",
    "    | OpenAIToolsAgentOutputParser()\n",
    ")"
   ]
  },
  {
   "cell_type": "markdown",
   "metadata": {},
   "source": [
    "### Agent Executor"
   ]
  },
  {
   "cell_type": "code",
   "execution_count": 5,
   "metadata": {},
   "outputs": [],
   "source": [
    "from langchain.agents import AgentExecutor\n",
    "\n",
    "chat_history = []\n",
    "\n",
    "agent_executor = AgentExecutor(agent=agent, tools = tools, verbose=True)"
   ]
  },
  {
   "cell_type": "markdown",
   "metadata": {},
   "source": [
    "### Invoke agent"
   ]
  },
  {
   "cell_type": "code",
   "execution_count": 6,
   "metadata": {},
   "outputs": [
    {
     "name": "stdout",
     "output_type": "stream",
     "text": [
      "\n",
      "\n",
      "\u001b[1m> Entering new AgentExecutor chain...\u001b[0m\n",
      "\u001b[32;1m\u001b[1;3m\n",
      "Invoking: `get_tables` with `{'file_path': './Book1.xlsx'}`\n",
      "\n",
      "\n",
      "\u001b[0m\u001b[36;1m\u001b[1;3m{'Campañas_promociones': [[{'name': 'Código de campaña', 'dtype': 'object'}, {'name': 'Nombre campaña', 'dtype': 'object'}, {'name': 'Objetivo', 'dtype': 'object'}, {'name': 'Monto descuento', 'dtype': 'float64'}, {'name': 'Tipo de descuento', 'dtype': 'object'}, {'name': 'Categoría producto', 'dtype': 'object'}, {'name': 'Fecha inicio', 'dtype': 'datetime64[ns]'}, {'name': 'Fecha de término', 'dtype': 'datetime64[ns]'}]], 'campañas_2': [[{'name': 'Código de campaña', 'dtype': 'object'}, {'name': 'Nombre campaña', 'dtype': 'object'}, {'name': 'Objetivo', 'dtype': 'object'}, {'name': 'Monto descuento', 'dtype': 'object'}, {'name': 'Tipo de descuento', 'dtype': 'object'}, {'name': 'Categoría producto', 'dtype': 'object'}, {'name': 'Fecha inicio', 'dtype': 'datetime64[ns]'}, {'name': 'Fecha de término', 'dtype': 'datetime64[ns]'}, {'name': 'Ventas en el periodo', 'dtype': 'int64'}, {'name': 'Unnamed: 9', 'dtype': 'float64'}, {'name': 'Unnamed: 10', 'dtype': 'float64'}, {'name': 'Unnamed: 11', 'dtype': 'object'}, {'name': 'Unnamed: 12', 'dtype': 'object'}]]}\u001b[0m\u001b[32;1m\u001b[1;3m```sql\n",
      "CREATE TABLE Campañas_promociones (\n",
      "    \"Código de campaña\" VARCHAR(255),\n",
      "    \"Nombre campaña\" VARCHAR(255),\n",
      "    Objetivo VARCHAR(255),\n",
      "    \"Monto descuento\" FLOAT,\n",
      "    \"Tipo de descuento\" VARCHAR(255),\n",
      "    \"Categoría producto\" VARCHAR(255),\n",
      "    \"Fecha inicio\" DATE,\n",
      "    \"Fecha de término\" DATE\n",
      ");\n",
      "\n",
      "CREATE TABLE campañas_2 (\n",
      "    \"Código de campaña\" VARCHAR(255),\n",
      "    \"Nombre campaña\" VARCHAR(255),\n",
      "    Objetivo VARCHAR(255),\n",
      "    \"Monto descuento\" VARCHAR(255),\n",
      "    \"Tipo de descuento\" VARCHAR(255),\n",
      "    \"Categoría producto\" VARCHAR(255),\n",
      "    \"Fecha inicio\" DATE,\n",
      "    \"Fecha de término\" DATE,\n",
      "    \"Ventas en el periodo\" INT,\n",
      "    \"Unnamed: 9\" FLOAT,\n",
      "    \"Unnamed: 10\" FLOAT,\n",
      "    \"Unnamed: 11\" VARCHAR(255),\n",
      "    \"Unnamed: 12\" VARCHAR(255)\n",
      ");\n",
      "```\n",
      "\n",
      "Las tablas `Campañas_promociones` y `campañas_2` comparten las siguientes columnas: `\"Código de campaña\"`, `\"Nombre campaña\"`, `\"Objetivo\"`, `\"Monto descuento\"`, `\"Tipo de descuento\"`, `\"Categoría producto\"`, `\"Fecha inicio\"` y `\"Fecha de término\"`.  Se puede usar la columna `\"Código de campaña\"` como clave foránea para relacionar ambas tablas.\n",
      "\n",
      "**Esquema:**\n",
      "\n",
      "```\n",
      "Campañas_promociones *--1 campañas_2\n",
      "      |                       |\n",
      "      +----\"Código de campaña\"+----\n",
      "```\n",
      "\u001b[0m\n",
      "\n",
      "\u001b[1m> Finished chain.\u001b[0m\n"
     ]
    }
   ],
   "source": [
    "input = \"Genera un script sql desde el archivo ubicado en './Book1.xlsx'\"\n",
    "result = agent_executor.invoke({\"input\": input,\"chat_history\": chat_history})"
   ]
  },
  {
   "cell_type": "code",
   "execution_count": 7,
   "metadata": {},
   "outputs": [
    {
     "name": "stdout",
     "output_type": "stream",
     "text": [
      "```sql\n",
      "CREATE TABLE Campañas_promociones (\n",
      "    \"Código de campaña\" VARCHAR(255),\n",
      "    \"Nombre campaña\" VARCHAR(255),\n",
      "    Objetivo VARCHAR(255),\n",
      "    \"Monto descuento\" FLOAT,\n",
      "    \"Tipo de descuento\" VARCHAR(255),\n",
      "    \"Categoría producto\" VARCHAR(255),\n",
      "    \"Fecha inicio\" DATE,\n",
      "    \"Fecha de término\" DATE\n",
      ");\n",
      "\n",
      "CREATE TABLE campañas_2 (\n",
      "    \"Código de campaña\" VARCHAR(255),\n",
      "    \"Nombre campaña\" VARCHAR(255),\n",
      "    Objetivo VARCHAR(255),\n",
      "    \"Monto descuento\" VARCHAR(255),\n",
      "    \"Tipo de descuento\" VARCHAR(255),\n",
      "    \"Categoría producto\" VARCHAR(255),\n",
      "    \"Fecha inicio\" DATE,\n",
      "    \"Fecha de término\" DATE,\n",
      "    \"Ventas en el periodo\" INT,\n",
      "    \"Unnamed: 9\" FLOAT,\n",
      "    \"Unnamed: 10\" FLOAT,\n",
      "    \"Unnamed: 11\" VARCHAR(255),\n",
      "    \"Unnamed: 12\" VARCHAR(255)\n",
      ");\n",
      "```\n",
      "\n",
      "Las tablas `Campañas_promociones` y `campañas_2` comparten las siguientes columnas: `\"Código de campaña\"`, `\"Nombre campaña\"`, `\"Objetivo\"`, `\"Monto descuento\"`, `\"Tipo de descuento\"`, `\"Categoría producto\"`, `\"Fecha inicio\"` y `\"Fecha de término\"`.  Se puede usar la columna `\"Código de campaña\"` como clave foránea para relacionar ambas tablas.\n",
      "\n",
      "**Esquema:**\n",
      "\n",
      "```\n",
      "Campañas_promociones *--1 campañas_2\n",
      "      |                       |\n",
      "      +----\"Código de campaña\"+----\n",
      "```\n",
      "\n"
     ]
    }
   ],
   "source": [
    "print(result.get('output'))"
   ]
  },
  {
   "cell_type": "code",
   "execution_count": 8,
   "metadata": {},
   "outputs": [
    {
     "name": "stderr",
     "output_type": "stream",
     "text": [
      "C:\\Users\\jock_\\AppData\\Local\\Temp\\ipykernel_19752\\1584369368.py:1: LangChainDeprecationWarning: The method `BaseTool.__call__` was deprecated in langchain-core 0.1.47 and will be removed in 1.0. Use :meth:`~invoke` instead.\n",
      "  get_tables('./Book1.xlsx')\n"
     ]
    },
    {
     "data": {
      "text/plain": [
       "{'Campañas_promociones': [[{'name': 'Código de campaña', 'dtype': 'object'},\n",
       "   {'name': 'Nombre campaña', 'dtype': 'object'},\n",
       "   {'name': 'Objetivo', 'dtype': 'object'},\n",
       "   {'name': 'Monto descuento', 'dtype': 'float64'},\n",
       "   {'name': 'Tipo de descuento', 'dtype': 'object'},\n",
       "   {'name': 'Categoría producto', 'dtype': 'object'},\n",
       "   {'name': 'Fecha inicio', 'dtype': 'datetime64[ns]'},\n",
       "   {'name': 'Fecha de término', 'dtype': 'datetime64[ns]'}]],\n",
       " 'campañas_2': [[{'name': 'Código de campaña', 'dtype': 'object'},\n",
       "   {'name': 'Nombre campaña', 'dtype': 'object'},\n",
       "   {'name': 'Objetivo', 'dtype': 'object'},\n",
       "   {'name': 'Monto descuento', 'dtype': 'object'},\n",
       "   {'name': 'Tipo de descuento', 'dtype': 'object'},\n",
       "   {'name': 'Categoría producto', 'dtype': 'object'},\n",
       "   {'name': 'Fecha inicio', 'dtype': 'datetime64[ns]'},\n",
       "   {'name': 'Fecha de término', 'dtype': 'datetime64[ns]'},\n",
       "   {'name': 'Ventas en el periodo', 'dtype': 'int64'},\n",
       "   {'name': 'Unnamed: 9', 'dtype': 'float64'},\n",
       "   {'name': 'Unnamed: 10', 'dtype': 'float64'},\n",
       "   {'name': 'Unnamed: 11', 'dtype': 'object'},\n",
       "   {'name': 'Unnamed: 12', 'dtype': 'object'}]]}"
      ]
     },
     "execution_count": 8,
     "metadata": {},
     "output_type": "execute_result"
    }
   ],
   "source": [
    "get_tables('./Book1.xlsx')"
   ]
  }
 ],
 "metadata": {
  "kernelspec": {
   "display_name": "nl-sql-env",
   "language": "python",
   "name": "python3"
  },
  "language_info": {
   "codemirror_mode": {
    "name": "ipython",
    "version": 3
   },
   "file_extension": ".py",
   "mimetype": "text/x-python",
   "name": "python",
   "nbconvert_exporter": "python",
   "pygments_lexer": "ipython3",
   "version": "3.12.6"
  }
 },
 "nbformat": 4,
 "nbformat_minor": 2
}
