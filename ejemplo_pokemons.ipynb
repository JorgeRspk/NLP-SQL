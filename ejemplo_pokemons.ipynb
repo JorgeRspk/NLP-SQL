{
 "cells": [
  {
   "cell_type": "markdown",
   "metadata": {},
   "source": [
    "# Consumo api con llm como extractor de información"
   ]
  },
  {
   "cell_type": "markdown",
   "metadata": {},
   "source": [
    "## Imports"
   ]
  },
  {
   "cell_type": "code",
   "execution_count": 1,
   "metadata": {},
   "outputs": [],
   "source": [
    "import os\n",
    "import requests\n",
    "import vertexai\n",
    "from dotenv import load_dotenv\n",
    "from langchain_google_vertexai import ChatVertexAI\n",
    "from langchain_core.prompts import PromptTemplate\n",
    "from langchain.chains import LLMChain"
   ]
  },
  {
   "cell_type": "markdown",
   "metadata": {},
   "source": [
    "## LLM"
   ]
  },
  {
   "cell_type": "code",
   "execution_count": 2,
   "metadata": {},
   "outputs": [],
   "source": [
    "\n",
    "vertexai.init(\n",
    "    project=\"gen-lang-client-0730997933\",\n",
    "    location=\"us-central1\"\n",
    ")\n",
    "\n",
    "os.environ['GOOGLE_APPLICATION_CREDENTIALS'] = 'gen-lang-client-0730997933-9e99e8511560.json'\n",
    "\n",
    "load_dotenv()\n",
    "\n",
    "GOOGLE_API_KEY = os.getenv('GOOGLE_API_KEY')\n",
    "\n",
    "os.environ[\"GOOGLE_API_KEY\"] = GOOGLE_API_KEY\n",
    "\n",
    "llm_gemini_pro = ChatVertexAI(model=\"gemini-1.5-pro-002\")"
   ]
  },
  {
   "cell_type": "markdown",
   "metadata": {},
   "source": [
    "## Funcioon para busqueda de pokemon por nombre consumiendo api"
   ]
  },
  {
   "cell_type": "code",
   "execution_count": 132,
   "metadata": {},
   "outputs": [],
   "source": [
    "def get_pokemon_info(pokename):\n",
    "    url=f'https://pokeapi.co/api/v2/pokemon/{pokename}'\n",
    "    headers = {\n",
    "        \"accept\": \"application/json\"\n",
    "    }\n",
    "    response =  requests.get(url, headers=headers)\n",
    "    return response"
   ]
  },
  {
   "cell_type": "code",
   "execution_count": 133,
   "metadata": {},
   "outputs": [],
   "source": [
    "pokename = 'ditto'\n",
    "info_pokemon = get_pokemon_info(pokename)"
   ]
  },
  {
   "cell_type": "code",
   "execution_count": 134,
   "metadata": {},
   "outputs": [],
   "source": [
    "info_json_abilities = info_pokemon.json().get('abilities')"
   ]
  },
  {
   "cell_type": "code",
   "execution_count": 135,
   "metadata": {},
   "outputs": [
    {
     "data": {
      "text/plain": [
       "[{'ability': {'name': 'limber', 'url': 'https://pokeapi.co/api/v2/ability/7/'},\n",
       "  'is_hidden': False,\n",
       "  'slot': 1},\n",
       " {'ability': {'name': 'imposter',\n",
       "   'url': 'https://pokeapi.co/api/v2/ability/150/'},\n",
       "  'is_hidden': True,\n",
       "  'slot': 3}]"
      ]
     },
     "execution_count": 135,
     "metadata": {},
     "output_type": "execute_result"
    }
   ],
   "source": [
    "info_json_abilities"
   ]
  },
  {
   "cell_type": "code",
   "execution_count": 137,
   "metadata": {},
   "outputs": [],
   "source": [
    "import json\n",
    "\n",
    "info_json_abilities = json.dumps(info_json_abilities)"
   ]
  },
  {
   "cell_type": "markdown",
   "metadata": {},
   "source": [
    "## Prompt"
   ]
  },
  {
   "cell_type": "code",
   "execution_count": 171,
   "metadata": {},
   "outputs": [],
   "source": [
    "template = \"Entragame informacion sobre {pokename}, quiero que me estructures la informacion y me entregues un resumen en de este y ademas un listados de las habilidades que puede aprender. La información es la siguiente: {info_json_abilities}\""
   ]
  },
  {
   "cell_type": "code",
   "execution_count": 172,
   "metadata": {},
   "outputs": [],
   "source": [
    "prompt_template = PromptTemplate(\n",
    "    input_variables = ['pokename', 'info_json_abilities'], template = template\n",
    ")"
   ]
  },
  {
   "cell_type": "code",
   "execution_count": null,
   "metadata": {},
   "outputs": [
    {
     "name": "stdout",
     "output_type": "stream",
     "text": [
      "Entragame informacion sobre ditto, quiero que me estructures la informacion y me entregues un resumen en de este y ademas un listados de las habilidades que puede aprender. La información es la siguiente: \"[{\\\"ability\\\": {\\\"name\\\": \\\"limber\\\", \\\"url\\\": \\\"https://pokeapi.co/api/v2/ability/7/\\\"}, \\\"is_hidden\\\": false, \\\"slot\\\": 1}, {\\\"ability\\\": {\\\"name\\\": \\\"imposter\\\", \\\"url\\\": \\\"https://pokeapi.co/api/v2/ability/150/\\\"}, \\\"is_hidden\\\": true, \\\"slot\\\": 3}]\"\n"
     ]
    }
   ],
   "source": [
    "print(prompt_template.format(pokename= 'ditto', info_json_abilities= info_json_abilities))"
   ]
  },
  {
   "cell_type": "markdown",
   "metadata": {},
   "source": [
    "## Chain"
   ]
  },
  {
   "cell_type": "code",
   "execution_count": 173,
   "metadata": {},
   "outputs": [],
   "source": [
    "from langchain_core.output_parsers import StrOutputParser\n",
    "\n",
    "chain = prompt_template | llm_gemini_pro | StrOutputParser()"
   ]
  },
  {
   "cell_type": "code",
   "execution_count": 181,
   "metadata": {},
   "outputs": [],
   "source": [
    "result = chain.invoke(input= {'pokename': 'ditto', 'info_json_abilities': info_json_abilities})"
   ]
  },
  {
   "cell_type": "code",
   "execution_count": 182,
   "metadata": {},
   "outputs": [
    {
     "data": {
      "text/plain": [
       "'## Ditto: El Pokémon Transformación\\n\\n**Resumen:**\\n\\nDitto es un Pokémon conocido por su asombrosa capacidad de transformarse en otros Pokémon.  Si bien su forma base es una simple mancha rosa amorfa,  puede copiar la apariencia y las habilidades de cualquier Pokémon que vea.  Su habilidad principal, \"Flexibilidad\", lo protege de la parálisis.  Sin embargo, su habilidad oculta, \"Impostor\", es aún más impresionante, permitiéndole transformarse automáticamente en el Pokémon oponente al entrar en combate.\\n\\n**Estructura de la información:**\\n\\nLa información proporcionada describe las habilidades de Ditto en un formato JSON.  Cada objeto dentro del array representa una habilidad:\\n\\n* **`ability`**: Contiene el nombre y la URL de la API para más información sobre la habilidad.\\n* **`name`**: Nombre de la habilidad.\\n* **`url`**: URL de la API con información detallada de la habilidad.\\n* **`is_hidden`**: Indica si la habilidad es oculta o no (verdadero o falso).\\n* **`slot`**: Representa el orden o la ranura en la que aparece la habilidad en los datos del juego.  No es necesariamente relevante para la utilidad de la habilidad.\\n\\n**Listado de Habilidades:**\\n\\n* **Flexibilidad (Limber):**  Impide que Ditto sea paralizado. (Habilidad principal)\\n* **Impostor (Imposter):**  Transforma a Ditto en una copia del Pokémon oponente al inicio del combate. (Habilidad oculta)\\n'"
      ]
     },
     "execution_count": 182,
     "metadata": {},
     "output_type": "execute_result"
    }
   ],
   "source": [
    "result"
   ]
  },
  {
   "cell_type": "markdown",
   "metadata": {},
   "source": []
  }
 ],
 "metadata": {
  "kernelspec": {
   "display_name": "nl-sql-env",
   "language": "python",
   "name": "python3"
  },
  "language_info": {
   "codemirror_mode": {
    "name": "ipython",
    "version": 3
   },
   "file_extension": ".py",
   "mimetype": "text/x-python",
   "name": "python",
   "nbconvert_exporter": "python",
   "pygments_lexer": "ipython3",
   "version": "3.12.6"
  }
 },
 "nbformat": 4,
 "nbformat_minor": 2
}
