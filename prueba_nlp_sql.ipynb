{
 "cells": [
  {
   "cell_type": "markdown",
   "metadata": {},
   "source": [
    "### NLP + SQL"
   ]
  },
  {
   "cell_type": "markdown",
   "metadata": {},
   "source": [
    "#### SET DATABASE"
   ]
  },
  {
   "cell_type": "code",
   "execution_count": 3,
   "metadata": {},
   "outputs": [],
   "source": [
    "import sqlite3\n",
    "\n",
    "# Conectar a la base de datos\n",
    "conn = sqlite3.connect('Chinook.db')\n",
    "cursor = conn.cursor()"
   ]
  },
  {
   "cell_type": "code",
   "execution_count": 4,
   "metadata": {},
   "outputs": [],
   "source": [
    "with open('E:/Repos/IA/NLP-SQL/Chinook.sql', 'r', encoding='utf-8') as file:\n",
    "    sql_script = file.read()"
   ]
  },
  {
   "cell_type": "code",
   "execution_count": 5,
   "metadata": {},
   "outputs": [],
   "source": [
    "cursor.executescript(sql_script)\n",
    "conn.commit()"
   ]
  },
  {
   "cell_type": "markdown",
   "metadata": {},
   "source": [
    "#### DATABASE TEST"
   ]
  },
  {
   "cell_type": "code",
   "execution_count": 1,
   "metadata": {},
   "outputs": [
    {
     "name": "stdout",
     "output_type": "stream",
     "text": [
      "sqlite\n",
      "['Album', 'Artist', 'Customer', 'Employee', 'Genre', 'Invoice', 'InvoiceLine', 'MediaType', 'Playlist', 'PlaylistTrack', 'Track']\n"
     ]
    },
    {
     "data": {
      "text/plain": [
       "\"[(1, 'AC/DC'), (2, 'Accept'), (3, 'Aerosmith'), (4, 'Alanis Morissette'), (5, 'Alice In Chains'), (6, 'Antônio Carlos Jobim'), (7, 'Apocalyptica'), (8, 'Audioslave'), (9, 'BackBeat'), (10, 'Billy Cobham')]\""
      ]
     },
     "execution_count": 1,
     "metadata": {},
     "output_type": "execute_result"
    }
   ],
   "source": [
    "from langchain_community.utilities import SQLDatabase\n",
    "\n",
    "db = SQLDatabase.from_uri(\"sqlite:///Chinook.db\")\n",
    "print(db.dialect)\n",
    "print(db.get_usable_table_names())\n",
    "db.run(\"SELECT * FROM Artist LIMIT 10;\")"
   ]
  },
  {
   "cell_type": "markdown",
   "metadata": {},
   "source": [
    "#### Inicio de servicio vertaxai + configuracion."
   ]
  },
  {
   "cell_type": "code",
   "execution_count": 3,
   "metadata": {},
   "outputs": [],
   "source": [
    "import vertexai\n",
    "import os\n",
    "\n",
    "vertexai.init(\n",
    "    project=\"gen-lang-client-0730997933\",\n",
    "    location=\"us-central1\"\n",
    ")\n",
    "\n",
    "os.environ['GOOGLE_APPLICATION_CREDENTIALS'] = 'gen-lang-client-0730997933-9e99e8511560.json'"
   ]
  },
  {
   "cell_type": "markdown",
   "metadata": {},
   "source": [
    "#### Modelos"
   ]
  },
  {
   "cell_type": "code",
   "execution_count": 4,
   "metadata": {},
   "outputs": [],
   "source": [
    "from dotenv import load_dotenv\n",
    "import os\n",
    "from langchain_google_vertexai import ChatVertexAI\n",
    "\n",
    "load_dotenv()\n",
    "\n",
    "GOOGLE_API_KEY = os.getenv('GOOGLE_API_KEY')\n",
    "\n",
    "os.environ[\"GOOGLE_API_KEY\"] = GOOGLE_API_KEY\n",
    "\n",
    "llm = ChatVertexAI(model=\"gemini-1.5-pro-002\")\n"
   ]
  },
  {
   "cell_type": "markdown",
   "metadata": {},
   "source": [
    "#### Chain NL -> SQL"
   ]
  },
  {
   "cell_type": "code",
   "execution_count": 5,
   "metadata": {},
   "outputs": [],
   "source": [
    "from langchain.chains import create_sql_query_chain\n",
    "\n",
    "chain = create_sql_query_chain(llm, db)\n",
    "response = chain.invoke({\"question\": \"las las canciones AC/DC agrupadas por album y el total de canciones en cada uno de ellos, dame solo la consulta como tal sin markdown ni otro ccontenido agregado.\"})\n"
   ]
  },
  {
   "cell_type": "code",
   "execution_count": 6,
   "metadata": {},
   "outputs": [
    {
     "data": {
      "text/plain": [
       "'SELECT \"T\".\"AlbumId\", COUNT(*) FROM \"Track\" AS \"T\" INNER JOIN \"Album\" AS \"A\" ON \"T\".\"AlbumId\" = \"A\".\"AlbumId\" INNER JOIN \"Artist\" AS \"AR\" ON \"A\".\"ArtistId\" = \"AR\".\"ArtistId\" WHERE \"AR\".\"Name\" = \\'AC/DC\\' GROUP BY \"T\".\"AlbumId\"'"
      ]
     },
     "execution_count": 6,
     "metadata": {},
     "output_type": "execute_result"
    }
   ],
   "source": [
    "response\n"
   ]
  },
  {
   "cell_type": "code",
   "execution_count": 7,
   "metadata": {},
   "outputs": [
    {
     "data": {
      "text/plain": [
       "'[(1, 10), (4, 8)]'"
      ]
     },
     "execution_count": 7,
     "metadata": {},
     "output_type": "execute_result"
    }
   ],
   "source": [
    "db.run(response)"
   ]
  },
  {
   "cell_type": "code",
   "execution_count": 8,
   "metadata": {},
   "outputs": [
    {
     "data": {
      "text/plain": [
       "'[(1, 10), (4, 8)]'"
      ]
     },
     "execution_count": 8,
     "metadata": {},
     "output_type": "execute_result"
    }
   ],
   "source": [
    "from langchain_community.tools.sql_database.tool import QuerySQLDataBaseTool\n",
    "\n",
    "execute_query = QuerySQLDataBaseTool(db=db)\n",
    "write_query = create_sql_query_chain(llm, db)\n",
    "chain = write_query | execute_query\n",
    "chain.invoke({\"question\": \"las canciones AC/DC agrupadas por album y el total de canciones en cada uno de ellos, dame solo la consulta como tal sin markdown ni otro ccontenido agregado.\"})"
   ]
  },
  {
   "cell_type": "markdown",
   "metadata": {},
   "source": [
    "#### Agent"
   ]
  },
  {
   "cell_type": "code",
   "execution_count": 9,
   "metadata": {},
   "outputs": [],
   "source": [
    "from langchain_community.agent_toolkits import create_sql_agent\n",
    "\n",
    "agent_executor = create_sql_agent(llm, db=db, agent_type=\"openai-tools\", verbose=True)"
   ]
  },
  {
   "cell_type": "code",
   "execution_count": 10,
   "metadata": {},
   "outputs": [
    {
     "name": "stdout",
     "output_type": "stream",
     "text": [
      "\n",
      "\n",
      "\u001b[1m> Entering new SQL Agent Executor chain...\u001b[0m\n",
      "\u001b[32;1m\u001b[1;3m\n",
      "Invoking: `sql_db_list_tables` with `{}`\n",
      "\n",
      "\n",
      "\u001b[0m\u001b[38;5;200m\u001b[1;3mAlbum, Artist, Customer, Employee, Genre, Invoice, InvoiceLine, MediaType, Playlist, PlaylistTrack, Track\u001b[0m\u001b[32;1m\u001b[1;3m\n",
      "Invoking: `sql_db_schema` with `{'table_names': 'Invoice'}`\n",
      "responded: The Invoice table sounds like it could have sales information.  Let me check the schema.\n",
      "\n",
      "\u001b[0m\u001b[33;1m\u001b[1;3m\n",
      "CREATE TABLE \"Invoice\" (\n",
      "\t\"InvoiceId\" INTEGER NOT NULL, \n",
      "\t\"CustomerId\" INTEGER NOT NULL, \n",
      "\t\"InvoiceDate\" DATETIME NOT NULL, \n",
      "\t\"BillingAddress\" NVARCHAR(70), \n",
      "\t\"BillingCity\" NVARCHAR(40), \n",
      "\t\"BillingState\" NVARCHAR(40), \n",
      "\t\"BillingCountry\" NVARCHAR(40), \n",
      "\t\"BillingPostalCode\" NVARCHAR(10), \n",
      "\t\"Total\" NUMERIC(10, 2) NOT NULL, \n",
      "\tPRIMARY KEY (\"InvoiceId\"), \n",
      "\tFOREIGN KEY(\"CustomerId\") REFERENCES \"Customer\" (\"CustomerId\")\n",
      ")\n",
      "\n",
      "/*\n",
      "3 rows from Invoice table:\n",
      "InvoiceId\tCustomerId\tInvoiceDate\tBillingAddress\tBillingCity\tBillingState\tBillingCountry\tBillingPostalCode\tTotal\n",
      "1\t2\t2021-01-01 00:00:00\tTheodor-Heuss-Straße 34\tStuttgart\tNone\tGermany\t70174\t1.98\n",
      "2\t4\t2021-01-02 00:00:00\tUllevålsveien 14\tOslo\tNone\tNorway\t0171\t3.96\n",
      "3\t8\t2021-01-03 00:00:00\tGrétrystraat 63\tBrussels\tNone\tBelgium\t1000\t5.94\n",
      "*/\u001b[0m\u001b[32;1m\u001b[1;3m\n",
      "Invoking: `sql_db_query_checker` with `{'query': 'SELECT BillingCountry, SUM(Total) AS TotalSales FROM Invoice GROUP BY BillingCountry ORDER BY TotalSales DESC LIMIT 10'}`\n",
      "\n",
      "\n",
      "\u001b[0m\u001b[36;1m\u001b[1;3m```sql\n",
      "SELECT BillingCountry, SUM(Total) AS TotalSales FROM Invoice GROUP BY BillingCountry ORDER BY TotalSales DESC LIMIT 10\n",
      "```\u001b[0m"
     ]
    },
    {
     "name": "stderr",
     "output_type": "stream",
     "text": [
      "Retrying langchain_google_vertexai.chat_models._completion_with_retry.<locals>._completion_with_retry_inner in 4.0 seconds as it raised ResourceExhausted: 429 Online prediction request quota exceeded for gemini-1.5-pro. Please try again later with backoff..\n",
      "Retrying langchain_google_vertexai.chat_models._completion_with_retry.<locals>._completion_with_retry_inner in 4.0 seconds as it raised ResourceExhausted: 429 Online prediction request quota exceeded for gemini-1.5-pro. Please try again later with backoff..\n",
      "Retrying langchain_google_vertexai.chat_models._completion_with_retry.<locals>._completion_with_retry_inner in 4.0 seconds as it raised ResourceExhausted: 429 Online prediction request quota exceeded for gemini-1.5-pro. Please try again later with backoff..\n",
      "Retrying langchain_google_vertexai.chat_models._completion_with_retry.<locals>._completion_with_retry_inner in 8.0 seconds as it raised ResourceExhausted: 429 Online prediction request quota exceeded for gemini-1.5-pro. Please try again later with backoff..\n",
      "Retrying langchain_google_vertexai.chat_models._completion_with_retry.<locals>._completion_with_retry_inner in 10.0 seconds as it raised ResourceExhausted: 429 Online prediction request quota exceeded for gemini-1.5-pro. Please try again later with backoff..\n"
     ]
    },
    {
     "name": "stdout",
     "output_type": "stream",
     "text": [
      "\u001b[32;1m\u001b[1;3m\n",
      "Invoking: `sql_db_query` with `{'query': 'SELECT BillingCountry, SUM(Total) AS TotalSales FROM Invoice GROUP BY BillingCountry ORDER BY TotalSales DESC LIMIT 10'}`\n",
      "\n",
      "\n",
      "\u001b[0m\u001b[36;1m\u001b[1;3m[('USA', 523.06), ('Canada', 303.96), ('France', 195.1), ('Brazil', 190.1), ('Germany', 156.48), ('United Kingdom', 112.86), ('Czech Republic', 90.24), ('Portugal', 77.24), ('India', 75.26), ('Chile', 46.62)]\u001b[0m\u001b[32;1m\u001b[1;3mHere are the total sales per country, ordered from most to least:\n",
      "USA: $523.06\n",
      "Canada: $303.96\n",
      "France: $195.10\n",
      "Brazil: $190.10\n",
      "Germany: $156.48\n",
      "United Kingdom: $112.86\n",
      "Czech Republic: $90.24\n",
      "Portugal: $77.24\n",
      "India: $75.26\n",
      "Chile: $46.62\n",
      "\n",
      "Customers from the USA spent the most.\n",
      "\u001b[0m\n",
      "\n",
      "\u001b[1m> Finished chain.\u001b[0m\n"
     ]
    },
    {
     "data": {
      "text/plain": [
       "{'input': \"List the total sales per country. Which country's customers spent the most?\",\n",
       " 'output': 'Here are the total sales per country, ordered from most to least:\\nUSA: $523.06\\nCanada: $303.96\\nFrance: $195.10\\nBrazil: $190.10\\nGermany: $156.48\\nUnited Kingdom: $112.86\\nCzech Republic: $90.24\\nPortugal: $77.24\\nIndia: $75.26\\nChile: $46.62\\n\\nCustomers from the USA spent the most.\\n'}"
      ]
     },
     "execution_count": 10,
     "metadata": {},
     "output_type": "execute_result"
    }
   ],
   "source": [
    "agent_executor.invoke(\n",
    "    \"List the total sales per country. Which country's customers spent the most?\"\n",
    ")"
   ]
  },
  {
   "cell_type": "markdown",
   "metadata": {},
   "source": [
    "#### Examples"
   ]
  },
  {
   "cell_type": "code",
   "execution_count": 11,
   "metadata": {},
   "outputs": [],
   "source": [
    "examples = [\n",
    "    {\"input\": \"List all artists.\", \"query\": \"SELECT * FROM Artist;\"},\n",
    "    {\n",
    "        \"input\": \"Find all albums for the artist 'AC/DC'.\",\n",
    "        \"query\": \"SELECT * FROM Album WHERE ArtistId = (SELECT ArtistId FROM Artist WHERE Name = 'AC/DC');\",\n",
    "    },\n",
    "    {\n",
    "        \"input\": \"List all tracks in the 'Rock' genre.\",\n",
    "        \"query\": \"SELECT * FROM Track WHERE GenreId = (SELECT GenreId FROM Genre WHERE Name = 'Rock');\",\n",
    "    },\n",
    "    {\n",
    "        \"input\": \"Find the total duration of all tracks.\",\n",
    "        \"query\": \"SELECT SUM(Milliseconds) FROM Track;\",\n",
    "    },\n",
    "    {\n",
    "        \"input\": \"List all customers from Canada.\",\n",
    "        \"query\": \"SELECT * FROM Customer WHERE Country = 'Canada';\",\n",
    "    },\n",
    "    {\n",
    "        \"input\": \"How many tracks are there in the album with ID 5?\",\n",
    "        \"query\": \"SELECT COUNT(*) FROM Track WHERE AlbumId = 5;\",\n",
    "    },\n",
    "    {\n",
    "        \"input\": \"Find the total number of invoices.\",\n",
    "        \"query\": \"SELECT COUNT(*) FROM Invoice;\",\n",
    "    },\n",
    "    {\n",
    "        \"input\": \"List all tracks that are longer than 5 minutes.\",\n",
    "        \"query\": \"SELECT * FROM Track WHERE Milliseconds > 300000;\",\n",
    "    },\n",
    "    {\n",
    "        \"input\": \"Who are the top 5 customers by total purchase?\",\n",
    "        \"query\": \"SELECT CustomerId, SUM(Total) AS TotalPurchase FROM Invoice GROUP BY CustomerId ORDER BY TotalPurchase DESC LIMIT 5;\",\n",
    "    },\n",
    "    {\n",
    "        \"input\": \"Which albums are from the year 2000?\",\n",
    "        \"query\": \"SELECT * FROM Album WHERE strftime('%Y', ReleaseDate) = '2000';\",\n",
    "    },\n",
    "    {\n",
    "        \"input\": \"How many employees are there\",\n",
    "        \"query\": 'SELECT COUNT(*) FROM \"Employee\"',\n",
    "    },\n",
    "]"
   ]
  },
  {
   "cell_type": "markdown",
   "metadata": {},
   "source": [
    "#### Example Selector"
   ]
  },
  {
   "cell_type": "code",
   "execution_count": 2,
   "metadata": {},
   "outputs": [
    {
     "name": "stderr",
     "output_type": "stream",
     "text": [
      "e:\\Repos\\IA\\NLP-SQL\\nl-sql-env\\Lib\\site-packages\\transformers\\tokenization_utils_base.py:1617: FutureWarning: `clean_up_tokenization_spaces` was not set. It will be set to `True` by default. This behavior will be deprecated in transformers v4.45, and will be then set to `False` by default. For more details check this issue: https://github.com/huggingface/transformers/issues/31884\n",
      "  warnings.warn(\n"
     ]
    }
   ],
   "source": [
    "from langchain_huggingface import HuggingFaceEmbeddings\n",
    "\n",
    "model_name = \"sentence-transformers/all-mpnet-base-v2\"\n",
    "model_kwargs = {'device': 'cpu'}\n",
    "encode_kwargs = {'normalize_embeddings': False}\n",
    "hf = HuggingFaceEmbeddings(\n",
    "    model_name=model_name,\n",
    "    model_kwargs=model_kwargs,\n",
    "    encode_kwargs=encode_kwargs\n",
    ")"
   ]
  },
  {
   "cell_type": "code",
   "execution_count": 13,
   "metadata": {},
   "outputs": [],
   "source": [
    "from langchain_community.vectorstores import FAISS\n",
    "from langchain_core.example_selectors import SemanticSimilarityExampleSelector\n",
    "\n",
    "example_selector = SemanticSimilarityExampleSelector.from_examples(\n",
    "    examples,\n",
    "    hf,\n",
    "    FAISS,\n",
    "    k=5,\n",
    "    input_keys=[\"input\"],\n",
    ")"
   ]
  },
  {
   "cell_type": "markdown",
   "metadata": {},
   "source": [
    "#### Mejorando el Prompt"
   ]
  },
  {
   "cell_type": "code",
   "execution_count": 14,
   "metadata": {},
   "outputs": [],
   "source": [
    "from langchain_core.prompts import (\n",
    "    ChatPromptTemplate,\n",
    "    FewShotPromptTemplate,\n",
    "    MessagesPlaceholder,\n",
    "    PromptTemplate,\n",
    "    SystemMessagePromptTemplate,\n",
    ")\n",
    "\n",
    "system_prefix = \"\"\"You are an agent designed to interact with a SQL database.\n",
    "Given an input question, create a syntactically correct {dialect} query to run, then look at the results of the query and return the answer.\n",
    "Unless the user specifies a specific number of examples they wish to obtain, always limit your query to at most {top_k} results.\n",
    "You can order the results by a relevant column to return the most interesting examples in the database.\n",
    "Never query for all the columns from a specific table, only ask for the relevant columns given the question.\n",
    "You have access to tools for interacting with the database.\n",
    "Only use the given tools. Only use the information returned by the tools to construct your final answer.\n",
    "You MUST double check your query before executing it. If you get an error while executing a query, rewrite the query and try again.\n",
    "\n",
    "DO NOT make any DML statements (INSERT, UPDATE, DELETE, DROP etc.) to the database.\n",
    "\n",
    "If the question does not seem related to the database, just return \"I don't know\" as the answer.\n",
    "\n",
    "Here are some examples of user inputs and their corresponding SQL queries:\"\"\"\n",
    "\n",
    "few_shot_prompt = FewShotPromptTemplate(\n",
    "    example_selector=example_selector,\n",
    "    example_prompt=PromptTemplate.from_template(\n",
    "        \"User input: {input}\\nSQL query: {query}\"\n",
    "    ),\n",
    "    input_variables=[\"input\", \"dialect\", \"top_k\"],\n",
    "    prefix=system_prefix,\n",
    "    suffix=\"\",\n",
    ")"
   ]
  },
  {
   "cell_type": "code",
   "execution_count": 15,
   "metadata": {},
   "outputs": [],
   "source": [
    "full_prompt = ChatPromptTemplate.from_messages(\n",
    "    [\n",
    "        SystemMessagePromptTemplate(prompt=few_shot_prompt),\n",
    "        (\"human\", \"{input}\"),\n",
    "        MessagesPlaceholder(\"agent_scratchpad\"),\n",
    "    ]\n",
    ")"
   ]
  },
  {
   "cell_type": "code",
   "execution_count": 16,
   "metadata": {},
   "outputs": [
    {
     "name": "stdout",
     "output_type": "stream",
     "text": [
      "System: You are an agent designed to interact with a SQL database.\n",
      "Given an input question, create a syntactically correct SQLite query to run, then look at the results of the query and return the answer.\n",
      "Unless the user specifies a specific number of examples they wish to obtain, always limit your query to at most 5 results.\n",
      "You can order the results by a relevant column to return the most interesting examples in the database.\n",
      "Never query for all the columns from a specific table, only ask for the relevant columns given the question.\n",
      "You have access to tools for interacting with the database.\n",
      "Only use the given tools. Only use the information returned by the tools to construct your final answer.\n",
      "You MUST double check your query before executing it. If you get an error while executing a query, rewrite the query and try again.\n",
      "\n",
      "DO NOT make any DML statements (INSERT, UPDATE, DELETE, DROP etc.) to the database.\n",
      "\n",
      "If the question does not seem related to the database, just return \"I don't know\" as the answer.\n",
      "\n",
      "Here are some examples of user inputs and their corresponding SQL queries:\n",
      "\n",
      "User input: List all artists.\n",
      "SQL query: SELECT * FROM Artist;\n",
      "\n",
      "User input: How many tracks are there in the album with ID 5?\n",
      "SQL query: SELECT COUNT(*) FROM Track WHERE AlbumId = 5;\n",
      "\n",
      "User input: Which albums are from the year 2000?\n",
      "SQL query: SELECT * FROM Album WHERE strftime('%Y', ReleaseDate) = '2000';\n",
      "\n",
      "User input: Find all albums for the artist 'AC/DC'.\n",
      "SQL query: SELECT * FROM Album WHERE ArtistId = (SELECT ArtistId FROM Artist WHERE Name = 'AC/DC');\n",
      "\n",
      "User input: How many employees are there\n",
      "SQL query: SELECT COUNT(*) FROM \"Employee\"\n",
      "Human: How many artists are there\n"
     ]
    }
   ],
   "source": [
    "prompt_val = full_prompt.invoke(\n",
    "    {\n",
    "        \"input\": \"How many artists are there\",\n",
    "        \"top_k\": 5,\n",
    "        \"dialect\": \"SQLite\",\n",
    "        \"agent_scratchpad\": [],\n",
    "    }\n",
    ")\n",
    "print(prompt_val.to_string())"
   ]
  },
  {
   "cell_type": "code",
   "execution_count": 17,
   "metadata": {},
   "outputs": [],
   "source": [
    "agent = create_sql_agent(\n",
    "    llm=llm,\n",
    "    db=db,\n",
    "    prompt=full_prompt,\n",
    "    verbose=True,\n",
    "    agent_type=\"openai-tools\",\n",
    ")"
   ]
  },
  {
   "cell_type": "code",
   "execution_count": 18,
   "metadata": {},
   "outputs": [
    {
     "name": "stdout",
     "output_type": "stream",
     "text": [
      "\n",
      "\n",
      "\u001b[1m> Entering new SQL Agent Executor chain...\u001b[0m\n",
      "\u001b[32;1m\u001b[1;3m\n",
      "Invoking: `sql_db_list_tables` with `{'tool_input': ''}`\n",
      "\n",
      "\n",
      "\u001b[0m\u001b[38;5;200m\u001b[1;3mAlbum, Artist, Customer, Employee, Genre, Invoice, InvoiceLine, MediaType, Playlist, PlaylistTrack, Track\u001b[0m\u001b[32;1m\u001b[1;3m\n",
      "Invoking: `sql_db_schema` with `{'table_names': 'Artist, Track'}`\n",
      "\n",
      "\n",
      "\u001b[0m\u001b[33;1m\u001b[1;3m\n",
      "CREATE TABLE \"Artist\" (\n",
      "\t\"ArtistId\" INTEGER NOT NULL, \n",
      "\t\"Name\" NVARCHAR(120), \n",
      "\tPRIMARY KEY (\"ArtistId\")\n",
      ")\n",
      "\n",
      "/*\n",
      "3 rows from Artist table:\n",
      "ArtistId\tName\n",
      "1\tAC/DC\n",
      "2\tAccept\n",
      "3\tAerosmith\n",
      "*/\n",
      "\n",
      "\n",
      "CREATE TABLE \"Track\" (\n",
      "\t\"TrackId\" INTEGER NOT NULL, \n",
      "\t\"Name\" NVARCHAR(200) NOT NULL, \n",
      "\t\"AlbumId\" INTEGER, \n",
      "\t\"MediaTypeId\" INTEGER NOT NULL, \n",
      "\t\"GenreId\" INTEGER, \n",
      "\t\"Composer\" NVARCHAR(220), \n",
      "\t\"Milliseconds\" INTEGER NOT NULL, \n",
      "\t\"Bytes\" INTEGER, \n",
      "\t\"UnitPrice\" NUMERIC(10, 2) NOT NULL, \n",
      "\tPRIMARY KEY (\"TrackId\"), \n",
      "\tFOREIGN KEY(\"MediaTypeId\") REFERENCES \"MediaType\" (\"MediaTypeId\"), \n",
      "\tFOREIGN KEY(\"GenreId\") REFERENCES \"Genre\" (\"GenreId\"), \n",
      "\tFOREIGN KEY(\"AlbumId\") REFERENCES \"Album\" (\"AlbumId\")\n",
      ")\n",
      "\n",
      "/*\n",
      "3 rows from Track table:\n",
      "TrackId\tName\tAlbumId\tMediaTypeId\tGenreId\tComposer\tMilliseconds\tBytes\tUnitPrice\n",
      "1\tFor Those About To Rock (We Salute You)\t1\t1\t1\tAngus Young, Malcolm Young, Brian Johnson\t343719\t11170334\t0.99\n",
      "2\tBalls to the Wall\t2\t2\t1\tU. Dirkschneider, W. Hoffmann, H. Frank, P. Baltes, S. Kaufmann, G. Hoffmann\t342562\t5510424\t0.99\n",
      "3\tFast As a Shark\t3\t2\t1\tF. Baltes, S. Kaufman, U. Dirkscneider & W. Hoffman\t230619\t3990994\t0.99\n",
      "*/\u001b[0m\u001b[32;1m\u001b[1;3m\n",
      "Invoking: `sql_db_query_checker` with `{'query': 'SELECT T1.Name, COUNT(T2.TrackId) FROM Artist AS T1 INNER JOIN Album AS T2 ON T1.ArtistId = T2.ArtistId INNER JOIN Track AS T3 ON T2.AlbumId = T3.AlbumId GROUP BY T1.Name'}`\n",
      "\n",
      "\n",
      "\u001b[0m\u001b[36;1m\u001b[1;3m```sql\n",
      "SELECT T1.Name, COUNT(T3.TrackId) FROM Artist AS T1 INNER JOIN Album AS T2 ON T1.ArtistId = T2.ArtistId INNER JOIN Track AS T3 ON T2.AlbumId = T3.AlbumId GROUP BY T1.Name\n",
      "```\u001b[0m\u001b[32;1m\u001b[1;3m\n",
      "Invoking: `sql_db_query` with `{'query': 'SELECT T1.Name, COUNT(T3.TrackId) FROM Artist AS T1 INNER JOIN Album AS T2 ON T1.ArtistId = T2.ArtistId INNER JOIN Track AS T3 ON T2.AlbumId = T3.AlbumId GROUP BY T1.Name'}`\n",
      "\n",
      "\n",
      "\u001b[0m\u001b[36;1m\u001b[1;3m[('AC/DC', 18), ('Aaron Copland & London Symphony Orchestra', 1), ('Aaron Goldberg', 1), ('Academy of St. Martin in the Fields & Sir Neville Marriner', 2), ('Academy of St. Martin in the Fields Chamber Ensemble & Sir Neville Marriner', 1), ('Academy of St. Martin in the Fields, John Birch, Sir Neville Marriner & Sylvia McNair', 1), ('Academy of St. Martin in the Fields, Sir Neville Marriner & Thurston Dart', 1), ('Accept', 4), ('Adrian Leaper & Doreen de Feis', 1), ('Aerosmith', 15), ('Aisha Duo', 2), ('Alanis Morissette', 13), ('Alberto Turco & Nova Schola Gregoriana', 1), ('Alice In Chains', 12), ('Amy Winehouse', 23), ('Anne-Sophie Mutter, Herbert Von Karajan & Wiener Philharmoniker', 1), ('Antal Doráti & London Symphony Orchestra', 1), ('Antônio Carlos Jobim', 31), ('Apocalyptica', 8), ('Aquaman', 1), ('Audioslave', 40), ('BackBeat', 12), ('Barry Wordsworth & BBC Concert Orchestra', 1), ('Battlestar Galactica', 20), ('Battlestar Galactica (Classic)', 24), ('Berliner Philharmoniker & Hans Rosbaud', 1), ('Berliner Philharmoniker & Herbert Von Karajan', 3), ('Berliner Philharmoniker, Claudio Abbado & Sabine Meyer', 1), ('Billy Cobham', 8), ('Black Label Society', 18), ('Black Sabbath', 17), ('Body Count', 17), ('Boston Symphony Orchestra & Seiji Ozawa', 1), ('Britten Sinfonia, Ivor Bolton & Lesley Garrett', 1), ('Bruce Dickinson', 11), ('Buddy Guy', 11), ('C. Monteverdi, Nigel Rogers - Chiaroscuro; London Baroque; London Cornett & Sackbu', 1), ('Caetano Veloso', 21), ('Cake', 1), ('Calexico', 1), (\"Charles Dutoit & L'Orchestre Symphonique de Montréal\", 1), ('Chicago Symphony Chorus, Chicago Symphony Orchestra & Sir Georg Solti', 1), ('Chicago Symphony Orchestra & Fritz Reiner', 1), ('Chico Buarque', 34), ('Chico Science & Nação Zumbi', 36), ('Choir Of Westminster Abbey & Simon Preston', 1), ('Chor der Wiener Staatsoper, Herbert Von Karajan & Wiener Philharmoniker', 1), ('Chris Cornell', 14), (\"Christopher O'Riley\", 1), ('Cidade Negra', 31), ('Cláudio Zoli', 10), ('Creedence Clearwater Revival', 40), ('Cássia Eller', 30), ('David Coverdale', 12), ('Deep Purple', 92), ('Def Leppard', 16), ('Dennis Chambers', 9), ('Djavan', 26), ('Dread Zeppelin', 1), ('Ed Motta', 14), ('Edo de Waart & San Francisco Symphony', 1), ('Elis Regina', 14), ('Emanuel Ax, Eugene Ormandy & Philadelphia Orchestra', 1), ('Emerson String Quartet', 1), ('English Concert & Trevor Pinnock', 2), ('Equale Brass Ensemble, John Eliot Gardiner & Munich Monteverdi Orchestra and Choir', 1), ('Eric Clapton', 48), ('Eugene Ormandy', 3), ('Faith No More', 52), ('Falamansa', 14), ('Felix Schmidt, London Symphony Orchestra & Rafael Frühbeck de Burgos', 1), ('Foo Fighters', 44), ('Frank Sinatra', 24), ('Frank Zappa & Captain Beefheart', 9), ('Fretwork', 1), ('Funk Como Le Gusta', 16), ('Gene Krupa', 22), ('Gerald Moore', 1), ('Gilberto Gil', 32), ('Godsmack', 12), ('Gonzaguinha', 14), ('Green Day', 34), (\"Guns N' Roses\", 42), ('Gustav Mahler', 1), ('Göteborgs Symfoniker & Neeme Järvi', 1), ('Habib Koité and Bamada', 2), ('Herbert Von Karajan, Mirella Freni & Wiener Philharmoniker', 1), ('Heroes', 23), ('Hilary Hahn, Jeffrey Kahane, Los Angeles Chamber Orchestra & Margaret Batjer', 1), ('House Of Pain', 19), ('Incognito', 13), ('Iron Maiden', 213), ('Itzhak Perlman', 1), ('JET', 13), ('James Brown', 20), ('James Levine', 1), ('Jamiroquai', 32), ('Jimi Hendrix', 17), ('Joe Satriani', 10), ('Jorge Ben', 14), ('Jota Quest', 12), ('João Suplicy', 14), ('Judas Priest', 16), ('Julian Bream', 1), ('Karsh Kale', 2), (\"Kent Nagano and Orchestre de l'Opéra de Lyon\", 1), ('Kiss', 35), ('Led Zeppelin', 114), ('Legião Urbana', 31), ('Lenny Kravitz', 57), ('Leonard Bernstein & New York Philharmonic', 1), ('Les Arts Florissants & William Christie', 1), ('London Symphony Orchestra & Sir Charles Mackerras', 1), ('Lost', 92), ('Luciana Souza/Romero Lubambo', 1), ('Luciano Pavarotti', 1), ('Lulu Santos', 28), ('Marcos Valle', 17), ('Marillion', 10), ('Marisa Monte', 18), ('Martin Roscoe', 1), ('Marvin Gaye', 18), ('Maurizio Pollini', 1), ('Mela Tenenbaum, Pro Musica Prague & Richard Kapp', 1), ('Men At Work', 10), ('Metallica', 112), ('Michael Tilson Thomas & San Francisco Symphony', 2), ('Michele Campanella', 1), ('Miles Davis', 37), ('Milton Nascimento', 26), ('Motörhead', 15), ('Mônica Marianno', 12), ('Mötley Crüe', 17), ('Nash Ensemble', 1), ('Nicolaus Esterhazy Sinfonia', 1), ('Nirvana', 29), ('O Rappa', 17), ('O Terço', 15), ('Olodum', 14), ('Orchestra of The Age of Enlightenment', 1), ('Orchestre Révolutionnaire et Romantique & John Eliot Gardiner', 1), ('Os Mutantes', 14), ('Os Paralamas Do Sucesso', 49), ('Otto Klemperer & Philharmonia Orchestra', 1), ('Ozzy Osbourne', 32), ('Page & Plant', 12), ('Passengers', 14), (\"Paul D'Ianno\", 10), ('Pearl Jam', 67), ('Philharmonia Orchestra & Sir Neville Marriner', 1), ('Philip Glass Ensemble', 1), ('Pink Floyd', 9), ('Planet Hemp', 16), ('Queen', 45), ('R.E.M.', 41), ('R.E.M. Feat. Kate Pearson', 11), ('Raimundos', 10), ('Raul Seixas', 14), ('Red Hot Chili Peppers', 48), ('Richard Marlow & The Choir of Trinity College, Cambridge', 1), ('Roger Norrington, London Classical Players', 1), ('Royal Philharmonic Orchestra & Sir Thomas Beecham', 1), ('Rush', 14), ('Santana', 27), ('Scholars Baroque Ensemble', 1), ('Scorpions', 12), ('Sergei Prokofiev & Yuri Temirkanov', 1), ('Sir Georg Solti & Wiener Philharmoniker', 1), ('Sir Georg Solti, Sumi Jo & Wiener Philharmoniker', 1), ('Skank', 23), ('Smashing Pumpkins', 34), ('Soundgarden', 17), ('Spyro Gyra', 21), ('Stevie Ray Vaughan & Double Trouble', 10), ('Stone Temple Pilots', 12), ('System Of A Down', 11), ('Temple of the Dog', 10), ('Terry Bozzio, Tony Levin & Steve Stevens', 7), ('The 12 Cellists of The Berlin Philharmonic', 1), ('The Black Crowes', 19), ('The Clash', 18), ('The Cult', 30), ('The Doors', 11), (\"The King's Singers\", 2), ('The Office', 53), ('The Police', 14), ('The Posies', 2), ('The Rolling Stones', 41), ('The Tea Party', 26), ('The Who', 20), ('Tim Maia', 30), ('Titãs', 38), ('Ton Koopman', 1), ('Toquinho & Vinícius', 15), ('U2', 135), ('UB40', 14), ('Van Halen', 52), ('Various Artists', 56), ('Velvet Revolver', 13), ('Vinícius De Moraes', 15), ('Wilhelm Kempff', 1), ('Yehudi Menuhin', 1), ('Yo-Yo Ma', 1), ('Zeca Pagodinho', 19)]\u001b[0m"
     ]
    },
    {
     "name": "stderr",
     "output_type": "stream",
     "text": [
      "Retrying langchain_google_vertexai.chat_models._completion_with_retry.<locals>._completion_with_retry_inner in 4.0 seconds as it raised ResourceExhausted: 429 Online prediction request quota exceeded for gemini-1.5-pro. Please try again later with backoff..\n",
      "Retrying langchain_google_vertexai.chat_models._completion_with_retry.<locals>._completion_with_retry_inner in 4.0 seconds as it raised ResourceExhausted: 429 Online prediction request quota exceeded for gemini-1.5-pro. Please try again later with backoff..\n"
     ]
    },
    {
     "name": "stdout",
     "output_type": "stream",
     "text": [
      "\u001b[32;1m\u001b[1;3mA continuacion se muestra el nombre del artista y el numero total de canciones de cada artista:\n",
      "AC/DC: 18\n",
      "Aaron Copland & London Symphony Orchestra: 1\n",
      "Aaron Goldberg: 1\n",
      "Academy of St. Martin in the Fields & Sir Neville Marriner: 2\n",
      "Academy of St. Martin in the Fields Chamber Ensemble & Sir Neville Marriner: 1\n",
      "Academy of St. Martin in the Fields, John Birch, Sir Neville Marriner & Sylvia McNair: 1\n",
      "Academy of St. Martin in the Fields, Sir Neville Marriner & Thurston Dart: 1\n",
      "Accept: 4\n",
      "Adrian Leaper & Doreen de Feis: 1\n",
      "Aerosmith: 15\n",
      "... (truncated due to character limits)\n",
      "\u001b[0m\n",
      "\n",
      "\u001b[1m> Finished chain.\u001b[0m\n"
     ]
    }
   ],
   "source": [
    "response = agent.invoke({\"input\": \"todos los artistas y el numero total de canciones que poseen\"})"
   ]
  },
  {
   "cell_type": "code",
   "execution_count": 20,
   "metadata": {},
   "outputs": [
    {
     "data": {
      "text/plain": [
       "'A continuacion se muestra el nombre del artista y el numero total de canciones de cada artista:\\nAC/DC: 18\\nAaron Copland & London Symphony Orchestra: 1\\nAaron Goldberg: 1\\nAcademy of St. Martin in the Fields & Sir Neville Marriner: 2\\nAcademy of St. Martin in the Fields Chamber Ensemble & Sir Neville Marriner: 1\\nAcademy of St. Martin in the Fields, John Birch, Sir Neville Marriner & Sylvia McNair: 1\\nAcademy of St. Martin in the Fields, Sir Neville Marriner & Thurston Dart: 1\\nAccept: 4\\nAdrian Leaper & Doreen de Feis: 1\\nAerosmith: 15\\n... (truncated due to character limits)\\n'"
      ]
     },
     "execution_count": 20,
     "metadata": {},
     "output_type": "execute_result"
    }
   ],
   "source": [
    "response.get('output')"
   ]
  },
  {
   "cell_type": "code",
   "execution_count": 24,
   "metadata": {},
   "outputs": [
    {
     "name": "stdout",
     "output_type": "stream",
     "text": [
      "<p>A continuacion se muestra el nombre del artista y el numero total de canciones de cada artista:\n",
      "AC/DC: 18\n",
      "Aaron Copland &amp; London Symphony Orchestra: 1\n",
      "Aaron Goldberg: 1\n",
      "Academy of St. Martin in the Fields &amp; Sir Neville Marriner: 2\n",
      "Academy of St. Martin in the Fields Chamber Ensemble &amp; Sir Neville Marriner: 1\n",
      "Academy of St. Martin in the Fields, John Birch, Sir Neville Marriner &amp; Sylvia McNair: 1\n",
      "Academy of St. Martin in the Fields, Sir Neville Marriner &amp; Thurston Dart: 1\n",
      "Accept: 4\n",
      "Adrian Leaper &amp; Doreen de Feis: 1\n",
      "Aerosmith: 15\n",
      "... (truncated due to character limits)</p>\n"
     ]
    }
   ],
   "source": [
    "import markdown\n",
    "f_response = markdown.markdown(response.get('output'))\n",
    "print(f_response)"
   ]
  },
  {
   "cell_type": "code",
   "execution_count": 22,
   "metadata": {},
   "outputs": [
    {
     "name": "stdout",
     "output_type": "stream",
     "text": [
      "You are a SQLite expert. Given an input question, first create a syntactically correct SQLite query to run, then look at the results of the query and return the answer to the input question.\n",
      "Unless the user specifies in the question a specific number of examples to obtain, query for at most 5 results using the LIMIT clause as per SQLite. You can order the results to return the most informative data in the database.\n",
      "Never query for all columns from a table. You must query only the columns that are needed to answer the question. Wrap each column name in double quotes (\") to denote them as delimited identifiers.\n",
      "Pay attention to use only the column names you can see in the tables below. Be careful to not query for columns that do not exist. Also, pay attention to which column is in which table.\n",
      "Pay attention to use date('now') function to get the current date, if the question involves \"today\".\n",
      "\n",
      "Use the following format:\n",
      "\n",
      "Question: Question here\n",
      "SQLQuery: SQL Query to run\n",
      "SQLResult: Result of the SQLQuery\n",
      "Answer: Final answer here\n",
      "\n",
      "Only use the following tables:\n",
      "\u001b[33;1m\u001b[1;3m{table_info}\u001b[0m\n",
      "\n",
      "Question: \u001b[33;1m\u001b[1;3m{input}\u001b[0m\n"
     ]
    }
   ],
   "source": [
    "chain.get_prompts()[0].pretty_print()"
   ]
  },
  {
   "cell_type": "code",
   "execution_count": 2,
   "metadata": {},
   "outputs": [],
   "source": [
    "import faiss\n",
    "from langchain_community.docstore.in_memory import InMemoryDocstore\n",
    "from langchain_community.vectorstores import FAISS\n",
    "\n",
    "index = faiss.IndexFlatL2(len(hf.embed_query(\"hello world\")))\n",
    "\n",
    "vector_store = FAISS(\n",
    "    embedding_function=hf,\n",
    "    index=index,\n",
    "    docstore=InMemoryDocstore(),\n",
    "    index_to_docstore_id={},\n",
    ")"
   ]
  }
 ],
 "metadata": {
  "kernelspec": {
   "display_name": "nl-sql-env",
   "language": "python",
   "name": "python3"
  },
  "language_info": {
   "codemirror_mode": {
    "name": "ipython",
    "version": 3
   },
   "file_extension": ".py",
   "mimetype": "text/x-python",
   "name": "python",
   "nbconvert_exporter": "python",
   "pygments_lexer": "ipython3",
   "version": "3.12.6"
  }
 },
 "nbformat": 4,
 "nbformat_minor": 2
}
