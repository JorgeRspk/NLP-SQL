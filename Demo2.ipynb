{
 "cells": [
  {
   "cell_type": "markdown",
   "metadata": {},
   "source": [
    "# Agente simple para crear ddl a partir de tablas de un excel"
   ]
  },
  {
   "cell_type": "markdown",
   "metadata": {},
   "source": [
    "## Set up modelo"
   ]
  },
  {
   "cell_type": "code",
   "execution_count": 29,
   "metadata": {},
   "outputs": [],
   "source": [
    "import vertexai\n",
    "import os\n",
    "from dotenv import load_dotenv\n",
    "from langchain_google_vertexai import ChatVertexAI\n",
    "\n",
    "vertexai.init(\n",
    "    project=\"gen-lang-client-0730997933\",\n",
    "    location=\"us-central1\"\n",
    ")\n",
    "\n",
    "os.environ['GOOGLE_APPLICATION_CREDENTIALS'] = 'gen-lang-client-0730997933-9e99e8511560.json'\n",
    "\n",
    "load_dotenv()\n",
    "\n",
    "GOOGLE_API_KEY = os.getenv('GOOGLE_API_KEY')\n",
    "\n",
    "os.environ[\"GOOGLE_API_KEY\"] = GOOGLE_API_KEY\n",
    "\n",
    "llm = ChatVertexAI(model=\"gemini-1.5-pro-002\")"
   ]
  },
  {
   "cell_type": "markdown",
   "metadata": {},
   "source": [
    "## Prompt"
   ]
  },
  {
   "cell_type": "code",
   "execution_count": 30,
   "metadata": {},
   "outputs": [],
   "source": [
    "from langchain_core.prompts import ChatPromptTemplate, MessagesPlaceholder\n",
    "\n",
    "# ID para guardar el historial de consultas anteriores\n",
    "MEMORY_KEY = \"chat_history\"\n",
    "\n",
    "# Template configurado para el prompt\n",
    "prompt = ChatPromptTemplate.from_messages(\n",
    "    [\n",
    "        (\n",
    "            \"system\",\n",
    "            \"\"\"System Prompt:\n",
    "\n",
    "                You are a data processing agent. Your task is to:\n",
    "\n",
    "                1. Open an Excel file with path provided by the user.\n",
    "                2. Extract all tables from the Excel sheets on a dictionary.\n",
    "                3. Interpretate the dictionary and create a sql script to create these tables on database. To interpretate first get name of columns and then get the type of variable.\n",
    "                4. Finally give the sql script as response.\n",
    "\n",
    "                \"\"\",\n",
    "        ),\n",
    "        MessagesPlaceholder(variable_name=MEMORY_KEY),\n",
    "        (\"user\", \"{input}\"),\n",
    "        MessagesPlaceholder(variable_name=\"agent_scratchpad\"),\n",
    "    ]\n",
    ")"
   ]
  },
  {
   "cell_type": "markdown",
   "metadata": {},
   "source": [
    "## Tools config"
   ]
  },
  {
   "cell_type": "code",
   "execution_count": 24,
   "metadata": {},
   "outputs": [],
   "source": [
    "from langchain_core.tools import tool\n",
    "from typing import List, Type, Dict\n",
    "from langchain_community.document_loaders import UnstructuredExcelLoader\n",
    "import pandas as pd\n",
    "from langchain_core.messages import AIMessage, HumanMessage\n",
    "\n",
    "@tool\n",
    "def get_tables(file_path: str) -> Dict[str, List[Dict[str, str]]]:\n",
    "    \"\"\"Extrae tablas desde un archivo Excel, guarda cada tabla en un CSV y devuelve un diccionario con columnas y tipos de datos.\"\"\"\n",
    "    # Cargar todas las hojas del archivo Excel\n",
    "    xls = pd.ExcelFile(file_path)\n",
    "    \n",
    "    tables_info = {}\n",
    "\n",
    "    # Recorrer cada hoja, guardarla como CSV y extraer información sobre columnas y tipos de datos\n",
    "    for sheet_name in xls.sheet_names:\n",
    "        # Convertir la hoja a DataFrame\n",
    "        df = xls.parse(sheet_name)\n",
    "        \n",
    "        # Guardar el DataFrame como CSV\n",
    "        csv_file_name = f\"{sheet_name}.csv\"\n",
    "        df.to_csv(csv_file_name, index=False)\n",
    "        \n",
    "        # Extraer información de las columnas y tipos de datos\n",
    "        columns_info = [\n",
    "            {\"name\": column, \"dtype\": str(dtype)}\n",
    "            for column, dtype in df.dtypes.items()\n",
    "        ]\n",
    "        \n",
    "        # Guardar esta información en el diccionario\n",
    "        tables_info[sheet_name] = columns_info\n",
    "    \n",
    "    return tables_info\n",
    "\n",
    "tools = [get_tables]\n",
    "\n",
    "llm_with_tools = llm.bind_tools(tools)"
   ]
  },
  {
   "cell_type": "markdown",
   "metadata": {},
   "source": [
    "## Agent"
   ]
  },
  {
   "cell_type": "code",
   "execution_count": 25,
   "metadata": {},
   "outputs": [],
   "source": [
    "from langchain.agents.format_scratchpad.openai_tools import (\n",
    "    format_to_openai_tool_messages,\n",
    ")\n",
    "from langchain.agents.output_parsers.openai_tools import OpenAIToolsAgentOutputParser\n",
    "from langchain.agents import AgentType\n",
    "from langchain.agents import AgentExecutor\n",
    "\n",
    "agent = (\n",
    "    {\n",
    "        \"input\": lambda x: x[\"input\"],\n",
    "        \"agent_scratchpad\": lambda x: format_to_openai_tool_messages(\n",
    "            x[\"intermediate_steps\"]\n",
    "        ),\n",
    "        \"chat_history\": lambda x: x[\"chat_history\"],\n",
    "\n",
    "    }\n",
    "    | prompt\n",
    "    | llm_with_tools\n",
    "    | OpenAIToolsAgentOutputParser()\n",
    ")"
   ]
  },
  {
   "cell_type": "code",
   "execution_count": 26,
   "metadata": {},
   "outputs": [],
   "source": [
    "chat_history = []\n",
    "\n",
    "agent_executor = AgentExecutor(agent=agent, tools = tools, verbose=True)"
   ]
  },
  {
   "cell_type": "code",
   "execution_count": 27,
   "metadata": {},
   "outputs": [],
   "source": [
    "input = \"Genera un script sql desde el archivo ubicado en './Book1.xlsx'\"\n",
    "result = agent_executor.stream({\"input\": input,\"chat_history\": chat_history})"
   ]
  },
  {
   "cell_type": "code",
   "execution_count": 28,
   "metadata": {},
   "outputs": [
    {
     "data": {
      "text/plain": [
       "<generator object AgentExecutor.stream at 0x0000020BC08EE7A0>"
      ]
     },
     "execution_count": 28,
     "metadata": {},
     "output_type": "execute_result"
    }
   ],
   "source": [
    "result"
   ]
  },
  {
   "cell_type": "code",
   "execution_count": 11,
   "metadata": {},
   "outputs": [],
   "source": [
    "def save_script(result, file_name):\n",
    "    \"\"\"save script on sql file.\"\"\"\n",
    "    \n",
    "    with open(file_name, 'w') as file:\n",
    "        file.write(result)"
   ]
  },
  {
   "cell_type": "code",
   "execution_count": 12,
   "metadata": {},
   "outputs": [
    {
     "data": {
      "text/plain": [
       "'```sql\\nCREATE TABLE Campañas_promociones (\\n  \"Código de campaña\" TEXT,\\n  \"Nombre campaña\" TEXT,\\n  Objetivo TEXT,\\n  \"Monto descuento\" REAL,\\n  \"Tipo de descuento\" TEXT,\\n  \"Categoría producto\" TEXT,\\n  \"Fecha inicio\" TIMESTAMP,\\n  \"Fecha de término\" TIMESTAMP\\n);\\n\\nCREATE TABLE campañas_2 (\\n  \"Código de campaña\" TEXT,\\n  \"Nombre campaña\" TEXT,\\n  Objetivo TEXT,\\n  \"Monto descuento\" TEXT,\\n  \"Tipo de descuento\" TEXT,\\n  \"Categoría producto\" TEXT,\\n  \"Fecha inicio\" TIMESTAMP,\\n  \"Fecha de término\" TIMESTAMP\\n);\\n```'"
      ]
     },
     "execution_count": 12,
     "metadata": {},
     "output_type": "execute_result"
    }
   ],
   "source": [
    "result.get('output')"
   ]
  },
  {
   "cell_type": "code",
   "execution_count": 13,
   "metadata": {},
   "outputs": [],
   "source": [
    "save_script(result.get('output'), 'output.sql')"
   ]
  },
  {
   "cell_type": "markdown",
   "metadata": {},
   "source": [
    "# Agent 2 ddl -> html "
   ]
  },
  {
   "cell_type": "markdown",
   "metadata": {},
   "source": [
    "## Prompt"
   ]
  },
  {
   "cell_type": "code",
   "execution_count": 18,
   "metadata": {},
   "outputs": [],
   "source": [
    "prompt_2 = ChatPromptTemplate.from_messages(\n",
    "    [\n",
    "        (\n",
    "            \"system\",\n",
    "            \"Eres un experto en bases de datos, lectura de script sql y programador html. Tu tarea es a traves de un script poder entender la estructura de las tablas y crear formularios en html a partir de estos\",\n",
    "        ),\n",
    "        (\"user\", \"{input}\"),\n",
    "        MessagesPlaceholder(variable_name=MEMORY_KEY),\n",
    "        MessagesPlaceholder(variable_name=\"agent_scratchpad\"),\n",
    "    ]\n",
    ")"
   ]
  },
  {
   "cell_type": "code",
   "execution_count": 21,
   "metadata": {},
   "outputs": [],
   "source": [
    "from langchain_community.document_loaders import TextLoader\n",
    "from langchain_community.document_loaders.csv_loader import CSVLoader\n",
    "\n",
    "@tool\n",
    "def get_sql(url: str) -> str:\n",
    "    \"\"\"Get script from input file.\"\"\"\n",
    "\n",
    "    loader = TextLoader(url)\n",
    "    \n",
    "    sql = loader.load()\n",
    "\n",
    "    sql_content = sql[0].page_content \n",
    "\n",
    "    return str(sql_content)\n",
    "\n",
    "@tool\n",
    "def get_data(url: str) -> str:\n",
    "    \"\"\"Get data example\"\"\"\n",
    "\n",
    "    \n",
    "    loader = CSVLoader(file_path='./example_data/mlb_teams_2012.csv')\n",
    "    data = loader.load()\n",
    "\n",
    "    data_content = data[0].page_content \n",
    "\n",
    "    return data_content"
   ]
  },
  {
   "cell_type": "code",
   "execution_count": 24,
   "metadata": {},
   "outputs": [],
   "source": [
    "tools2 = [get_sql, get_data]\n",
    "\n",
    "llm_with_tools2 = llm.bind_tools(tools2)"
   ]
  },
  {
   "cell_type": "code",
   "execution_count": 30,
   "metadata": {},
   "outputs": [],
   "source": [
    "from langchain.agents.format_scratchpad.openai_tools import (\n",
    "    format_to_openai_tool_messages,\n",
    ")\n",
    "from langchain.agents.output_parsers.openai_tools import OpenAIToolsAgentOutputParser\n",
    "\n",
    "agent_2 = (\n",
    "    {\n",
    "        \"input\": lambda x: x[\"input\"],\n",
    "        \"agent_scratchpad\": lambda x: format_to_openai_tool_messages(\n",
    "            x[\"intermediate_steps\"]\n",
    "        ),\n",
    "        \"chat_history\": lambda x: x[\"chat_history\"],\n",
    "    }\n",
    "    | prompt_2\n",
    "    | llm_with_tools2\n",
    "    | OpenAIToolsAgentOutputParser()\n",
    ")"
   ]
  },
  {
   "cell_type": "code",
   "execution_count": 31,
   "metadata": {},
   "outputs": [],
   "source": [
    "agent_executor2 = AgentExecutor(agent=agent_2, tools = tools2, verbose=True)"
   ]
  },
  {
   "cell_type": "code",
   "execution_count": 32,
   "metadata": {},
   "outputs": [
    {
     "name": "stdout",
     "output_type": "stream",
     "text": [
      "\n",
      "\n",
      "\u001b[1m> Entering new None chain...\u001b[0m\n",
      "\u001b[32;1m\u001b[1;3m\n",
      "Invoking: `get_sql` with `{'url': 'output.sql'}`\n",
      "\n",
      "\n",
      "\u001b[0m\u001b[36;1m\u001b[1;3m```sql\n",
      "CREATE TABLE Campañas_promociones (\n",
      "  \"Código de campaña\" VARCHAR(255),\n",
      "  \"Nombre campaña\" VARCHAR(255),\n",
      "  Objetivo VARCHAR(255),\n",
      "  \"Monto descuento\" FLOAT,\n",
      "  \"Tipo de descuento\" VARCHAR(255),\n",
      "  \"Categoría producto\" VARCHAR(255),\n",
      "  \"Fecha inicio\" DATETIME,\n",
      "  \"Fecha de término\" DATETIME\n",
      ");\n",
      "\n",
      "CREATE TABLE campañas_2 (\n",
      "  \"Código de campaña\" VARCHAR(255),\n",
      "  \"Nombre campaña\" VARCHAR(255),\n",
      "  Objetivo VARCHAR(255),\n",
      "  \"Monto descuento\" VARCHAR(255),\n",
      "  \"Tipo de descuento\" VARCHAR(255),\n",
      "  \"Categoría producto\" VARCHAR(255),\n",
      "  \"Fecha inicio\" DATETIME,\n",
      "  \"Fecha de término\" DATETIME\n",
      ");\n",
      "```\u001b[0m\u001b[32;1m\u001b[1;3m```html\n",
      "<!DOCTYPE html>\n",
      "<html lang=\"es\">\n",
      "<head>\n",
      "    <meta charset=\"UTF-8\">\n",
      "    <title>Formulario de Campañas Promocionales</title>\n",
      "</head>\n",
      "<body>\n",
      "\n",
      "<h1>Crear Campaña Promocional</h1>\n",
      "\n",
      "<form id=\"campanaForm\">\n",
      "    <label for=\"codigoCampana\">Código de campaña:</label><br>\n",
      "    <input type=\"text\" id=\"codigoCampana\" name=\"codigoCampana\" required><br><br>\n",
      "\n",
      "    <label for=\"nombreCampana\">Nombre campaña:</label><br>\n",
      "    <input type=\"text\" id=\"nombreCampana\" name=\"nombreCampana\" required><br><br>\n",
      "\n",
      "    <label for=\"objetivo\">Objetivo:</label><br>\n",
      "    <input type=\"text\" id=\"objetivo\" name=\"objetivo\" required><br><br>\n",
      "\n",
      "    <label for=\"montoDescuento\">Monto descuento:</label><br>\n",
      "    <input type=\"number\" id=\"montoDescuento\" name=\"montoDescuento\" required><br><br>\n",
      "\n",
      "    <label for=\"tipoDescuento\">Tipo de descuento:</label><br>\n",
      "    <select id=\"tipoDescuento\" name=\"tipoDescuento\">\n",
      "        <option value=\"porcentaje\">Porcentaje</option>\n",
      "        <option value=\"monto_fijo\">Monto fijo</option>\n",
      "    </select><br><br>\n",
      "\n",
      "    <label for=\"categoriaProducto\">Categoría producto:</label><br>\n",
      "    <input type=\"text\" id=\"categoriaProducto\" name=\"categoriaProducto\" required><br><br>\n",
      "\n",
      "    <label for=\"fechaInicio\">Fecha inicio:</label><br>\n",
      "    <input type=\"datetime-local\" id=\"fechaInicio\" name=\"fechaInicio\" required><br><br>\n",
      "\n",
      "    <label for=\"fechaTermino\">Fecha de término:</label><br>\n",
      "    <input type=\"datetime-local\" id=\"fechaTermino\" name=\"fechaTermino\" required><br><br>\n",
      "\n",
      "\n",
      "    <button type=\"submit\">Crear Campaña</button>\n",
      "\n",
      "</form>\n",
      "\n",
      "\n",
      "\n",
      "</body>\n",
      "</html>\n",
      "```\u001b[0m\n",
      "\n",
      "\u001b[1m> Finished chain.\u001b[0m\n"
     ]
    },
    {
     "data": {
      "text/plain": [
       "[{'actions': [ToolAgentAction(tool='get_sql', tool_input={'url': 'output.sql'}, log=\"\\nInvoking: `get_sql` with `{'url': 'output.sql'}`\\n\\n\\n\", message_log=[AIMessageChunk(content='', additional_kwargs={'function_call': {'name': 'get_sql', 'arguments': '{\"url\": \"output.sql\"}'}}, response_metadata={'safety_ratings': [], 'finish_reason': 'STOP'}, id='run-e9d74b17-df71-465c-aa47-7546402a1df0', tool_calls=[{'name': 'get_sql', 'args': {'url': 'output.sql'}, 'id': '3ca8d1c2-428b-4565-9ffe-a003a7d5e5e0', 'type': 'tool_call'}], usage_metadata={'input_tokens': 75, 'output_tokens': 7, 'total_tokens': 82}, tool_call_chunks=[{'name': 'get_sql', 'args': '{\"url\": \"output.sql\"}', 'id': '3ca8d1c2-428b-4565-9ffe-a003a7d5e5e0', 'index': None, 'type': 'tool_call_chunk'}])], tool_call_id='3ca8d1c2-428b-4565-9ffe-a003a7d5e5e0')],\n",
       "  'messages': [AIMessageChunk(content='', additional_kwargs={'function_call': {'name': 'get_sql', 'arguments': '{\"url\": \"output.sql\"}'}}, response_metadata={'safety_ratings': [], 'finish_reason': 'STOP'}, id='run-e9d74b17-df71-465c-aa47-7546402a1df0', tool_calls=[{'name': 'get_sql', 'args': {'url': 'output.sql'}, 'id': '3ca8d1c2-428b-4565-9ffe-a003a7d5e5e0', 'type': 'tool_call'}], usage_metadata={'input_tokens': 75, 'output_tokens': 7, 'total_tokens': 82}, tool_call_chunks=[{'name': 'get_sql', 'args': '{\"url\": \"output.sql\"}', 'id': '3ca8d1c2-428b-4565-9ffe-a003a7d5e5e0', 'index': None, 'type': 'tool_call_chunk'}])]},\n",
       " {'steps': [AgentStep(action=ToolAgentAction(tool='get_sql', tool_input={'url': 'output.sql'}, log=\"\\nInvoking: `get_sql` with `{'url': 'output.sql'}`\\n\\n\\n\", message_log=[AIMessageChunk(content='', additional_kwargs={'function_call': {'name': 'get_sql', 'arguments': '{\"url\": \"output.sql\"}'}}, response_metadata={'safety_ratings': [], 'finish_reason': 'STOP'}, id='run-e9d74b17-df71-465c-aa47-7546402a1df0', tool_calls=[{'name': 'get_sql', 'args': {'url': 'output.sql'}, 'id': '3ca8d1c2-428b-4565-9ffe-a003a7d5e5e0', 'type': 'tool_call'}], usage_metadata={'input_tokens': 75, 'output_tokens': 7, 'total_tokens': 82}, tool_call_chunks=[{'name': 'get_sql', 'args': '{\"url\": \"output.sql\"}', 'id': '3ca8d1c2-428b-4565-9ffe-a003a7d5e5e0', 'index': None, 'type': 'tool_call_chunk'}])], tool_call_id='3ca8d1c2-428b-4565-9ffe-a003a7d5e5e0'), observation='```sql\\nCREATE TABLE Campañas_promociones (\\n  \"Código de campaña\" VARCHAR(255),\\n  \"Nombre campaña\" VARCHAR(255),\\n  Objetivo VARCHAR(255),\\n  \"Monto descuento\" FLOAT,\\n  \"Tipo de descuento\" VARCHAR(255),\\n  \"Categoría producto\" VARCHAR(255),\\n  \"Fecha inicio\" DATETIME,\\n  \"Fecha de término\" DATETIME\\n);\\n\\nCREATE TABLE campañas_2 (\\n  \"Código de campaña\" VARCHAR(255),\\n  \"Nombre campaña\" VARCHAR(255),\\n  Objetivo VARCHAR(255),\\n  \"Monto descuento\" VARCHAR(255),\\n  \"Tipo de descuento\" VARCHAR(255),\\n  \"Categoría producto\" VARCHAR(255),\\n  \"Fecha inicio\" DATETIME,\\n  \"Fecha de término\" DATETIME\\n);\\n```')],\n",
       "  'messages': [FunctionMessage(content='```sql\\nCREATE TABLE Campañas_promociones (\\n  \"Código de campaña\" VARCHAR(255),\\n  \"Nombre campaña\" VARCHAR(255),\\n  Objetivo VARCHAR(255),\\n  \"Monto descuento\" FLOAT,\\n  \"Tipo de descuento\" VARCHAR(255),\\n  \"Categoría producto\" VARCHAR(255),\\n  \"Fecha inicio\" DATETIME,\\n  \"Fecha de término\" DATETIME\\n);\\n\\nCREATE TABLE campañas_2 (\\n  \"Código de campaña\" VARCHAR(255),\\n  \"Nombre campaña\" VARCHAR(255),\\n  Objetivo VARCHAR(255),\\n  \"Monto descuento\" VARCHAR(255),\\n  \"Tipo de descuento\" VARCHAR(255),\\n  \"Categoría producto\" VARCHAR(255),\\n  \"Fecha inicio\" DATETIME,\\n  \"Fecha de término\" DATETIME\\n);\\n```', additional_kwargs={}, response_metadata={}, name='get_sql')]},\n",
       " {'output': '```html\\n<!DOCTYPE html>\\n<html lang=\"es\">\\n<head>\\n    <meta charset=\"UTF-8\">\\n    <title>Formulario de Campañas Promocionales</title>\\n</head>\\n<body>\\n\\n<h1>Crear Campaña Promocional</h1>\\n\\n<form id=\"campanaForm\">\\n    <label for=\"codigoCampana\">Código de campaña:</label><br>\\n    <input type=\"text\" id=\"codigoCampana\" name=\"codigoCampana\" required><br><br>\\n\\n    <label for=\"nombreCampana\">Nombre campaña:</label><br>\\n    <input type=\"text\" id=\"nombreCampana\" name=\"nombreCampana\" required><br><br>\\n\\n    <label for=\"objetivo\">Objetivo:</label><br>\\n    <input type=\"text\" id=\"objetivo\" name=\"objetivo\" required><br><br>\\n\\n    <label for=\"montoDescuento\">Monto descuento:</label><br>\\n    <input type=\"number\" id=\"montoDescuento\" name=\"montoDescuento\" required><br><br>\\n\\n    <label for=\"tipoDescuento\">Tipo de descuento:</label><br>\\n    <select id=\"tipoDescuento\" name=\"tipoDescuento\">\\n        <option value=\"porcentaje\">Porcentaje</option>\\n        <option value=\"monto_fijo\">Monto fijo</option>\\n    </select><br><br>\\n\\n    <label for=\"categoriaProducto\">Categoría producto:</label><br>\\n    <input type=\"text\" id=\"categoriaProducto\" name=\"categoriaProducto\" required><br><br>\\n\\n    <label for=\"fechaInicio\">Fecha inicio:</label><br>\\n    <input type=\"datetime-local\" id=\"fechaInicio\" name=\"fechaInicio\" required><br><br>\\n\\n    <label for=\"fechaTermino\">Fecha de término:</label><br>\\n    <input type=\"datetime-local\" id=\"fechaTermino\" name=\"fechaTermino\" required><br><br>\\n\\n\\n    <button type=\"submit\">Crear Campaña</button>\\n\\n</form>\\n\\n\\n\\n</body>\\n</html>\\n```',\n",
       "  'messages': [AIMessage(content='```html\\n<!DOCTYPE html>\\n<html lang=\"es\">\\n<head>\\n    <meta charset=\"UTF-8\">\\n    <title>Formulario de Campañas Promocionales</title>\\n</head>\\n<body>\\n\\n<h1>Crear Campaña Promocional</h1>\\n\\n<form id=\"campanaForm\">\\n    <label for=\"codigoCampana\">Código de campaña:</label><br>\\n    <input type=\"text\" id=\"codigoCampana\" name=\"codigoCampana\" required><br><br>\\n\\n    <label for=\"nombreCampana\">Nombre campaña:</label><br>\\n    <input type=\"text\" id=\"nombreCampana\" name=\"nombreCampana\" required><br><br>\\n\\n    <label for=\"objetivo\">Objetivo:</label><br>\\n    <input type=\"text\" id=\"objetivo\" name=\"objetivo\" required><br><br>\\n\\n    <label for=\"montoDescuento\">Monto descuento:</label><br>\\n    <input type=\"number\" id=\"montoDescuento\" name=\"montoDescuento\" required><br><br>\\n\\n    <label for=\"tipoDescuento\">Tipo de descuento:</label><br>\\n    <select id=\"tipoDescuento\" name=\"tipoDescuento\">\\n        <option value=\"porcentaje\">Porcentaje</option>\\n        <option value=\"monto_fijo\">Monto fijo</option>\\n    </select><br><br>\\n\\n    <label for=\"categoriaProducto\">Categoría producto:</label><br>\\n    <input type=\"text\" id=\"categoriaProducto\" name=\"categoriaProducto\" required><br><br>\\n\\n    <label for=\"fechaInicio\">Fecha inicio:</label><br>\\n    <input type=\"datetime-local\" id=\"fechaInicio\" name=\"fechaInicio\" required><br><br>\\n\\n    <label for=\"fechaTermino\">Fecha de término:</label><br>\\n    <input type=\"datetime-local\" id=\"fechaTermino\" name=\"fechaTermino\" required><br><br>\\n\\n\\n    <button type=\"submit\">Crear Campaña</button>\\n\\n</form>\\n\\n\\n\\n</body>\\n</html>\\n```', additional_kwargs={}, response_metadata={})]}]"
      ]
     },
     "execution_count": 32,
     "metadata": {},
     "output_type": "execute_result"
    }
   ],
   "source": [
    "list(agent_executor2.stream({\"input\": \"Genera un html a partir del archivo 'output.sql' \",\"chat_history\": chat_history}))"
   ]
  }
 ],
 "metadata": {
  "kernelspec": {
   "display_name": "nl-sql-env",
   "language": "python",
   "name": "python3"
  },
  "language_info": {
   "codemirror_mode": {
    "name": "ipython",
    "version": 3
   },
   "file_extension": ".py",
   "mimetype": "text/x-python",
   "name": "python",
   "nbconvert_exporter": "python",
   "pygments_lexer": "ipython3",
   "version": "3.12.6"
  }
 },
 "nbformat": 4,
 "nbformat_minor": 2
}
